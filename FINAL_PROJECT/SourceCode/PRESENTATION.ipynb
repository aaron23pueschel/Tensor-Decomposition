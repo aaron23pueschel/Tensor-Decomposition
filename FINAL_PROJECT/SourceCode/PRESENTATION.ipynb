{
 "cells": [
  {
   "cell_type": "markdown",
   "metadata": {},
   "source": [
    "## Alternating least squares with QR decomposition"
   ]
  },
  {
   "cell_type": "markdown",
   "metadata": {},
   "source": [
    "##### Bookkeeping "
   ]
  },
  {
   "cell_type": "code",
   "execution_count": 1,
   "metadata": {},
   "outputs": [],
   "source": [
    "## Import libraries\n",
    "\n",
    "from cp_utils import *\n",
    "#from np_utils import *\n",
    "from cp_kernels import *\n",
    "import cupy as cp\n",
    "#import scipy\n",
    "import serial_utils as SU\n",
    "import numpy as np\n",
    "import matplotlib.pyplot as plt"
   ]
  },
  {
   "cell_type": "markdown",
   "metadata": {},
   "source": [
    "##### Consider a tensor of order 3. Generally such matrices are found in natural or synthetic data. We would like to decompose this tensor into the sum of outer products. This is similar to a singular value decomposition."
   ]
  },
  {
   "cell_type": "code",
   "execution_count": 2,
   "metadata": {},
   "outputs": [],
   "source": [
    "\n",
    "## Constructing a matrix from outer products\n",
    "# Rank 1 matrix\n",
    "dim1 = 5\n",
    "dim2 = 5\n",
    "A1 = cp.random.random(dim1,dtype=cp.float32)\n",
    "A2 = cp.random.random(dim2,dtype=cp.float32)\n",
    "M = cp.einsum('i,j->ij',A1,A2)\n",
    "\n",
    "\n",
    "# Rank 3 matrix construction\n",
    "rank = 3\n",
    "dim1 = 5\n",
    "dim2 = 5\n",
    "A1 = cp.random.random((dim1,rank),dtype=cp.float32)  ## Kind of like U in SVD\n",
    "A2 = cp.random.random((dim2,rank),dtype=cp.float32)  ## Kind of like V.T in SVD\n",
    "M = cp.zeros((dim1,dim2))\n",
    "for i in range(rank):\n",
    "    M += cp.einsum('i,j->ij',A1[:,i],A2[:,i])"
   ]
  },
  {
   "cell_type": "code",
   "execution_count": 3,
   "metadata": {},
   "outputs": [],
   "source": [
    "## Constructing a Tensor from outer products\n",
    "# Rank 2 Tensor construction\n",
    "\n",
    "rank = 2\n",
    "dim1 = 3\n",
    "dim2 = 4\n",
    "dim3 = 5\n",
    "\n",
    "A1 = cp.random.random((dim1,rank),dtype=cp.float32)\n",
    "A2 = cp.random.random((dim2,rank),dtype=cp.float32)\n",
    "A3 = cp.random.random((dim3,rank),dtype=cp.float32)\n",
    "X = cp.zeros((dim1,dim2,dim3))\n",
    "for i in range(rank):\n",
    "    X += cp.einsum('i,j,k->ijk',A1[:,i],A2[:,i],A3[:,i])"
   ]
  },
  {
   "cell_type": "markdown",
   "metadata": {},
   "source": [
    "### Alternating least squares is the inverse of this operation. Given X, find A1,A2,A3"
   ]
  },
  {
   "cell_type": "code",
   "execution_count": 4,
   "metadata": {},
   "outputs": [],
   "source": [
    "## The algorithm: One iteration, for one mode of ALS\n",
    "\n",
    "## Take a guess at the factor matrices A1,A2,A3...\n",
    "\n",
    "A1_guess = cp.random.random((dim1,rank),dtype=cp.float32)\n",
    "A3_guess = cp.random.random((dim3,rank),dtype=cp.float32)\n",
    "\n",
    "\n",
    "KR = khatri_rao(A1,A3)\n",
    "target_b = f_unfold(X, mode=1,order='C').T\n",
    "A2_updated = cp.linalg.solve(KR.T@KR, KR.T@target_b).T"
   ]
  },
  {
   "cell_type": "code",
   "execution_count": 5,
   "metadata": {},
   "outputs": [
    {
     "name": "stdout",
     "output_type": "stream",
     "text": [
      "Khatri rao shape:  (15, 2)\n",
      "X unfolded shape:  (15, 4)\n",
      "A2 updated shape:  (4, 2)\n"
     ]
    }
   ],
   "source": [
    "## What KR is doing---> \n",
    "## If A1 is indexed by i,r and A3 indexed by k,r then \n",
    "## KR(A1,A2) has dimensions (dim1*dim3, rank) and is indexed by (ik,r)\n",
    "## Think of khatri rao as flattened outer product of the columns of A1, A3\n",
    "\n",
    "print(\"Khatri rao shape: \",KR.shape)\n",
    "\n",
    "## unfold will \"squash\" all dimensions in X except the one we are interested in\n",
    "## in this case target_b has dims (dim1*dim3, dim2)\n",
    "print(\"X unfolded shape: \",target_b.shape)\n",
    "\n",
    "## Solve normal equations:\n",
    "print(\"A2 updated shape: \",A2_updated.shape)\n",
    "\n",
    "\n",
    "## Do other combinations until convergence..."
   ]
  },
  {
   "cell_type": "markdown",
   "metadata": {},
   "source": [
    "## Moving onto ALS-QR\n"
   ]
  },
  {
   "cell_type": "code",
   "execution_count": 6,
   "metadata": {},
   "outputs": [],
   "source": [
    "### The idea is very similar to vanilla ALS, but we have to do other tensor \n",
    "### operations that are generally WAY more expensive to compute\n",
    "\n",
    "\n",
    "## Do QR:\n",
    "Q_A3,R_A3 = np.linalg.qr(A3)\n",
    "Q_A1,R_A1 = np.linalg.qr(A1)\n",
    "\n",
    "\n",
    "## Khatri rao...\n",
    "V1 = khatri_rao(R_A3, R_A1)\n",
    "\n",
    "## QR again...\n",
    "Q,R = cp.linalg.qr(V1)\n",
    "\n",
    "## Tensor matrix product TWICE\n",
    "Y = cp.einsum('ijk,iw,ky->wjy',X,Q_A1,Q_A3)\n",
    "\n",
    "## unfold, do a matrix product with Q\n",
    "Y0 = f_unfold(Y,mode=1)\n",
    "W= Y0@Q\n",
    "\n",
    "## Backsolve\n",
    "A2_updated = linalg.solve_triangular(R,W.T).T\n"
   ]
  },
  {
   "cell_type": "markdown",
   "metadata": {},
   "source": [
    "## Naive serial C implementation\n",
    "#### serial_utils.py, utils.c"
   ]
  },
  {
   "cell_type": "code",
   "execution_count": 7,
   "metadata": {},
   "outputs": [],
   "source": [
    "### I can compile my C code and pass in numpy arrays!"
   ]
  },
  {
   "cell_type": "code",
   "execution_count": 8,
   "metadata": {},
   "outputs": [],
   "source": [
    "%%bash\n",
    "gcc -shared -o naive_c.so -fPIC utils.c"
   ]
  },
  {
   "cell_type": "code",
   "execution_count": 9,
   "metadata": {},
   "outputs": [],
   "source": [
    "rank = 5\n",
    "dim1 = 30\n",
    "dim2 = 30\n",
    "dim3 = 30\n",
    "\n",
    "A1 = np.random.random((dim1,rank)).astype(np.float32)\n",
    "A2 = np.random.random((dim2,rank)).astype(np.float32)\n",
    "A3 = np.random.random((dim3,rank)).astype(np.float32)\n",
    "\n",
    "sum = np.zeros((dim1,dim2,dim3),dtype=np.float32)\n",
    "for i in range(rank):\n",
    "    sum+= np.einsum('i,j,k->ijk',A1[:,i],A2[:,i],A3[:,i])\n",
    "X=sum\n"
   ]
  },
  {
   "cell_type": "code",
   "execution_count": 10,
   "metadata": {},
   "outputs": [
    {
     "name": "stdout",
     "output_type": "stream",
     "text": [
      "Epoch: 0 MAX Rel Error:  0.21413545\n",
      "Epoch: 1 MAX Rel Error:  0.13681327\n",
      "Epoch: 2 MAX Rel Error:  0.114701875\n",
      "Epoch: 3 MAX Rel Error:  0.10344823\n",
      "Epoch: 4 MAX Rel Error:  0.09694521\n",
      "Epoch: 5 MAX Rel Error:  0.09115249\n",
      "Epoch: 6 MAX Rel Error:  0.08520892\n",
      "Epoch: 7 MAX Rel Error:  0.078794435\n",
      "Epoch: 8 MAX Rel Error:  0.071678884\n",
      "Epoch: 9 MAX Rel Error:  0.063710906\n",
      "Epoch: 10 MAX Rel Error:  0.054923058\n",
      "Epoch: 11 MAX Rel Error:  0.045690436\n",
      "Epoch: 12 MAX Rel Error:  0.036886632\n",
      "Epoch: 13 MAX Rel Error:  0.029684965\n",
      "Epoch: 14 MAX Rel Error:  0.024716744\n",
      "Epoch: 15 MAX Rel Error:  0.021598734\n",
      "Epoch: 16 MAX Rel Error:  0.019576736\n",
      "Epoch: 17 MAX Rel Error:  0.018129008\n",
      "Epoch: 18 MAX Rel Error:  0.01699703\n",
      "Epoch: 19 MAX Rel Error:  0.016058203\n",
      "Epoch: 20 MAX Rel Error:  0.01524841\n",
      "Epoch: 21 MAX Rel Error:  0.014530148\n",
      "Epoch: 22 MAX Rel Error:  0.013879821\n",
      "Epoch: 23 MAX Rel Error:  0.01328191\n",
      "Epoch: 24 MAX Rel Error:  0.01272599\n",
      "Epoch: 25 MAX Rel Error:  0.012204868\n",
      "Epoch: 26 MAX Rel Error:  0.011713458\n",
      "Epoch: 27 MAX Rel Error:  0.011248084\n",
      "Epoch: 28 MAX Rel Error:  0.010805969\n",
      "Epoch: 29 MAX Rel Error:  0.01038498\n",
      "Epoch: 30 MAX Rel Error:  0.009983382\n",
      "Epoch: 31 MAX Rel Error:  0.009599797\n",
      "Epoch: 32 MAX Rel Error:  0.009232996\n",
      "Epoch: 33 MAX Rel Error:  0.008881965\n",
      "Epoch: 34 MAX Rel Error:  0.008545773\n",
      "Epoch: 35 MAX Rel Error:  0.00822362\n",
      "Epoch: 36 MAX Rel Error:  0.007914746\n",
      "Epoch: 37 MAX Rel Error:  0.007618466\n",
      "Epoch: 38 MAX Rel Error:  0.0073341723\n",
      "Epoch: 39 MAX Rel Error:  0.0070612645\n",
      "Epoch: 40 MAX Rel Error:  0.0067992136\n",
      "Epoch: 41 MAX Rel Error:  0.0065475143\n",
      "Epoch: 42 MAX Rel Error:  0.0063056955\n",
      "Epoch: 43 MAX Rel Error:  0.0060733147\n",
      "Epoch: 44 MAX Rel Error:  0.0058499565\n",
      "Epoch: 45 MAX Rel Error:  0.0056352234\n",
      "Epoch: 46 MAX Rel Error:  0.005428729\n",
      "Epoch: 47 MAX Rel Error:  0.0052301367\n",
      "Epoch: 48 MAX Rel Error:  0.0050391164\n",
      "Epoch: 49 MAX Rel Error:  0.004855346\n"
     ]
    }
   ],
   "source": [
    "## MAX error across all modes (we know the truth, since we constructed it)\n",
    "QR_SERIAL  = SU.decompose_QR_SERIAL(X,verbose=True,max_iter=50,rank=5)"
   ]
  },
  {
   "cell_type": "markdown",
   "metadata": {},
   "source": [
    "# Cuda implementation\n"
   ]
  },
  {
   "cell_type": "code",
   "execution_count": 11,
   "metadata": {},
   "outputs": [],
   "source": [
    "## Move everything to the GPU! \n",
    "\n",
    "A1 = cp.array(A1,dtype=cp.float32)\n",
    "A2 = cp.array(A2,dtype =cp.float32)\n",
    "A3 = cp.array(A3,cp.float32)\n",
    "\n",
    "X = cp.zeros((dim1,dim2,dim3),dtype = cp.float32)\n",
    "for i in range(rank):\n",
    "    X += cp.einsum('i,j,k->ijk',A1[:,i],A2[:,i],A3[:,i])"
   ]
  },
  {
   "cell_type": "code",
   "execution_count": 12,
   "metadata": {},
   "outputs": [],
   "source": [
    "## %%bash \n",
    "## nvidia-smi"
   ]
  },
  {
   "cell_type": "code",
   "execution_count": 13,
   "metadata": {},
   "outputs": [
    {
     "name": "stdout",
     "output_type": "stream",
     "text": [
      "Epoch: 0 Rel Error:  0.17207119\n",
      "Epoch: 0 | Loss (A): 15.0907545 | Loss (B): 15.0907545 | Loss (C): 15.090754\n",
      "Epoch: 1 Rel Error:  0.13165838\n",
      "Epoch: 1 | Loss (A): 11.546525 | Loss (B): 11.546524 | Loss (C): 11.546524\n",
      "Epoch: 2 Rel Error:  0.12037321\n",
      "Epoch: 2 | Loss (A): 10.556808 | Loss (B): 10.556808 | Loss (C): 10.556808\n",
      "Epoch: 3 Rel Error:  0.10758771\n",
      "Epoch: 3 | Loss (A): 9.435512 | Loss (B): 9.435512 | Loss (C): 9.435512\n",
      "Epoch: 4 Rel Error:  0.09578455\n",
      "Epoch: 4 | Loss (A): 8.400366 | Loss (B): 8.400366 | Loss (C): 8.400367\n",
      "Epoch: 5 Rel Error:  0.08718878\n",
      "Epoch: 5 | Loss (A): 7.646512 | Loss (B): 7.646512 | Loss (C): 7.6465116\n",
      "Epoch: 6 Rel Error:  0.08023016\n",
      "Epoch: 6 | Loss (A): 7.036237 | Loss (B): 7.036237 | Loss (C): 7.036237\n",
      "Epoch: 7 Rel Error:  0.072940506\n",
      "Epoch: 7 | Loss (A): 6.3969293 | Loss (B): 6.3969297 | Loss (C): 6.3969293\n",
      "Epoch: 8 Rel Error:  0.06518122\n",
      "Epoch: 8 | Loss (A): 5.7164345 | Loss (B): 5.7164345 | Loss (C): 5.716435\n",
      "Epoch: 9 Rel Error:  0.05763384\n",
      "Epoch: 9 | Loss (A): 5.054525 | Loss (B): 5.054525 | Loss (C): 5.054525\n",
      "Epoch: 10 Rel Error:  0.050325505\n",
      "Epoch: 10 | Loss (A): 4.4135795 | Loss (B): 4.4135795 | Loss (C): 4.4135795\n",
      "Epoch: 11 Rel Error:  0.043176908\n",
      "Epoch: 11 | Loss (A): 3.7866423 | Loss (B): 3.7866426 | Loss (C): 3.7866426\n",
      "Epoch: 12 Rel Error:  0.036483996\n",
      "Epoch: 12 | Loss (A): 3.19967 | Loss (B): 3.1996698 | Loss (C): 3.19967\n",
      "Epoch: 13 Rel Error:  0.030615434\n",
      "Epoch: 13 | Loss (A): 2.6849933 | Loss (B): 2.6849933 | Loss (C): 2.6849933\n",
      "Epoch: 14 Rel Error:  0.02577685\n",
      "Epoch: 14 | Loss (A): 2.2606463 | Loss (B): 2.260646 | Loss (C): 2.2606463\n",
      "Epoch: 15 Rel Error:  0.021978896\n",
      "Epoch: 15 | Loss (A): 1.9275632 | Loss (B): 1.9275633 | Loss (C): 1.9275632\n",
      "Epoch: 16 Rel Error:  0.019100035\n",
      "Epoch: 16 | Loss (A): 1.6750854 | Loss (B): 1.6750854 | Loss (C): 1.6750854\n",
      "Epoch: 17 Rel Error:  0.016960863\n",
      "Epoch: 17 | Loss (A): 1.4874786 | Loss (B): 1.4874786 | Loss (C): 1.4874785\n",
      "Epoch: 18 Rel Error:  0.015377596\n",
      "Epoch: 18 | Loss (A): 1.3486251 | Loss (B): 1.3486251 | Loss (C): 1.3486251\n",
      "Epoch: 19 Rel Error:  0.014191287\n",
      "Epoch: 19 | Loss (A): 1.244585 | Loss (B): 1.244585 | Loss (C): 1.244585\n",
      "Epoch: 20 Rel Error:  0.013278402\n",
      "Epoch: 20 | Loss (A): 1.1645244 | Loss (B): 1.1645244 | Loss (C): 1.1645244\n",
      "Epoch: 21 Rel Error:  0.012549801\n",
      "Epoch: 21 | Loss (A): 1.1006256 | Loss (B): 1.1006256 | Loss (C): 1.1006256\n",
      "Epoch: 22 Rel Error:  0.011944474\n",
      "Epoch: 22 | Loss (A): 1.047538 | Loss (B): 1.047538 | Loss (C): 1.047538\n",
      "Epoch: 23 Rel Error:  0.011422111\n",
      "Epoch: 23 | Loss (A): 1.0017265 | Loss (B): 1.0017265 | Loss (C): 1.0017265\n",
      "Epoch: 24 Rel Error:  0.010956631\n",
      "Epoch: 24 | Loss (A): 0.96090347 | Loss (B): 0.9609035 | Loss (C): 0.9609036\n",
      "Epoch: 25 Rel Error:  0.010531398\n",
      "Epoch: 25 | Loss (A): 0.9236104 | Loss (B): 0.9236104 | Loss (C): 0.9236104\n",
      "Epoch: 26 Rel Error:  0.010135839\n",
      "Epoch: 26 | Loss (A): 0.8889196 | Loss (B): 0.88891953 | Loss (C): 0.8889196\n",
      "Epoch: 27 Rel Error:  0.009763216\n",
      "Epoch: 27 | Loss (A): 0.85624033 | Loss (B): 0.8562403 | Loss (C): 0.85624033\n",
      "Epoch: 28 Rel Error:  0.009409226\n",
      "Epoch: 28 | Loss (A): 0.82519513 | Loss (B): 0.8251951 | Loss (C): 0.8251951\n",
      "Epoch: 29 Rel Error:  0.009071018\n",
      "Epoch: 29 | Loss (A): 0.7955341 | Loss (B): 0.79553413 | Loss (C): 0.7955341\n",
      "Epoch: 30 Rel Error:  0.008746694\n",
      "Epoch: 30 | Loss (A): 0.7670906 | Loss (B): 0.7670907 | Loss (C): 0.7670906\n",
      "Epoch: 31 Rel Error:  0.008434944\n",
      "Epoch: 31 | Loss (A): 0.73975 | Loss (B): 0.73975 | Loss (C): 0.7397499\n",
      "Epoch: 32 Rel Error:  0.008134846\n",
      "Epoch: 32 | Loss (A): 0.7134311 | Loss (B): 0.7134312 | Loss (C): 0.7134311\n",
      "Epoch: 33 Rel Error:  0.007845648\n",
      "Epoch: 33 | Loss (A): 0.6880684 | Loss (B): 0.6880684 | Loss (C): 0.6880684\n",
      "Epoch: 34 Rel Error:  0.0075667943\n",
      "Epoch: 34 | Loss (A): 0.6636127 | Loss (B): 0.6636127 | Loss (C): 0.6636127\n",
      "Epoch: 35 Rel Error:  0.0072978023\n",
      "Epoch: 35 | Loss (A): 0.6400219 | Loss (B): 0.640022 | Loss (C): 0.640022\n",
      "Epoch: 36 Rel Error:  0.007038225\n",
      "Epoch: 36 | Loss (A): 0.6172568 | Loss (B): 0.6172569 | Loss (C): 0.6172569\n",
      "Epoch: 37 Rel Error:  0.006787755\n",
      "Epoch: 37 | Loss (A): 0.5952905 | Loss (B): 0.5952905 | Loss (C): 0.5952905\n",
      "Epoch: 38 Rel Error:  0.00654598\n",
      "Epoch: 38 | Loss (A): 0.57408667 | Loss (B): 0.57408667 | Loss (C): 0.57408667\n",
      "Epoch: 39 Rel Error:  0.00631265\n",
      "Epoch: 39 | Loss (A): 0.55362344 | Loss (B): 0.5536235 | Loss (C): 0.55362344\n",
      "Epoch: 40 Rel Error:  0.0060874266\n",
      "Epoch: 40 | Loss (A): 0.5338712 | Loss (B): 0.5338712 | Loss (C): 0.53387123\n",
      "Epoch: 41 Rel Error:  0.0058700377\n",
      "Epoch: 41 | Loss (A): 0.5148061 | Loss (B): 0.5148061 | Loss (C): 0.5148061\n",
      "Epoch: 42 Rel Error:  0.005660219\n",
      "Epoch: 42 | Loss (A): 0.49640486 | Loss (B): 0.49640483 | Loss (C): 0.49640483\n",
      "Epoch: 43 Rel Error:  0.005457722\n",
      "Epoch: 43 | Loss (A): 0.47864574 | Loss (B): 0.4786457 | Loss (C): 0.47864574\n",
      "Epoch: 44 Rel Error:  0.0052622748\n",
      "Epoch: 44 | Loss (A): 0.46150482 | Loss (B): 0.46150488 | Loss (C): 0.46150488\n",
      "Epoch: 45 Rel Error:  0.00507365\n",
      "Epoch: 45 | Loss (A): 0.4449623 | Loss (B): 0.44496232 | Loss (C): 0.44496235\n",
      "Epoch: 46 Rel Error:  0.0048916154\n",
      "Epoch: 46 | Loss (A): 0.42899784 | Loss (B): 0.4289978 | Loss (C): 0.4289978\n",
      "Epoch: 47 Rel Error:  0.0047159516\n",
      "Epoch: 47 | Loss (A): 0.413592 | Loss (B): 0.413592 | Loss (C): 0.413592\n",
      "Epoch: 48 Rel Error:  0.0045464365\n",
      "Epoch: 48 | Loss (A): 0.39872536 | Loss (B): 0.39872542 | Loss (C): 0.3987254\n",
      "Epoch: 49 Rel Error:  0.0043828627\n",
      "Epoch: 49 | Loss (A): 0.38437986 | Loss (B): 0.3843799 | Loss (C): 0.3843799\n"
     ]
    }
   ],
   "source": [
    "CUDA_QR = decompose_QR_KERNELS(X,max_iter=50,verbose=True,rank=5)"
   ]
  },
  {
   "cell_type": "markdown",
   "metadata": {},
   "source": [
    "### How are these functions called?\n",
    "\n",
    "- Look at serial and CUDA (serial_utils.py, utils.c, cp_utils.py,cp_kernels.py)"
   ]
  },
  {
   "cell_type": "markdown",
   "metadata": {},
   "source": [
    "### It turns out that the overwhelming hot kernel is the tensor matrix product (surprised?)\n",
    "\n"
   ]
  },
  {
   "cell_type": "code",
   "execution_count": 14,
   "metadata": {},
   "outputs": [
    {
     "data": {
      "image/png": "[encoded data removed]",
      "text/plain": [
       "<Figure size 800x600 with 1 Axes>"
      ]
     },
     "metadata": {},
     "output_type": "display_data"
    }
   ],
   "source": [
    "labels = ['ttm_1', 'ttm_2', 'ttm_3', 'QR','Other']\n",
    "sizes = [39.90, 38.79, 8.97, 3.82,8.52]\n",
    "\n",
    "# Plotting the pie chart\n",
    "plt.figure(figsize=(8, 6))\n",
    "plt.pie(sizes, labels=labels, autopct='%1.2f%%', startangle=140)\n",
    "plt.axis('equal')  # Equal aspect ratio ensures that pie is drawn as a circle.\n",
    "plt.title('Kernel GPU time usage')\n",
    "plt.show()"
   ]
  }
 ],
 "metadata": {
  "kernelspec": {
   "display_name": "Python 3",
   "language": "python",
   "name": "python3"
  },
  "language_info": {
   "codemirror_mode": {
    "name": "ipython",
    "version": 3
   },
   "file_extension": ".py",
   "mimetype": "text/x-python",
   "name": "python",
   "nbconvert_exporter": "python",
   "pygments_lexer": "ipython3",
   "version": "3.10.12"
  }
 },
 "nbformat": 4,
 "nbformat_minor": 2
}
